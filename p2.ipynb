{
 "cells": [
  {
   "cell_type": "markdown",
   "metadata": {},
   "source": [
    "for installation \n",
    "http://rhiever.github.io/tpot/installing/\n",
    "    "
   ]
  },
  {
   "cell_type": "code",
   "execution_count": null,
   "metadata": {
    "collapsed": true
   },
   "outputs": [],
   "source": []
  },
  {
   "cell_type": "code",
   "execution_count": 1,
   "metadata": {
    "collapsed": false
   },
   "outputs": [],
   "source": [
    "# import sklearn library and datasets\n",
    "from sklearn import datasets\n",
    "from sklearn import metrics\n",
    "\n",
    "#load iris data \n",
    "iris = datasets.load_iris()\n",
    "X = iris.data\n",
    "y = iris.target"
   ]
  },
  {
   "cell_type": "code",
   "execution_count": 2,
   "metadata": {
    "collapsed": false
   },
   "outputs": [
    {
     "name": "stdout",
     "output_type": "stream",
     "text": [
      "0.966666666667\n",
      "1.0\n"
     ]
    }
   ],
   "source": [
    "# compute classification accuracy for the logistic regression model from sklearn import metrics print(metrics.accuracy_score(y, y_pred))\n",
    "\n",
    "\n",
    "\n",
    "from sklearn.neighbors import KNeighborsClassifier \n",
    "knn = KNeighborsClassifier(n_neighbors=5)\n",
    "knn.fit(X, y)\n",
    "y_pred = knn.predict(X) \n",
    "print(metrics.accuracy_score(y, y_pred)) \n",
    "\n",
    "\n",
    "\n",
    "knn = KNeighborsClassifier(n_neighbors=1) \n",
    "knn.fit(X, y) \n",
    "y_pred = knn.predict(X)\n",
    "print(metrics.accuracy_score(y, y_pred)) \n",
    "\n"
   ]
  },
  {
   "cell_type": "code",
   "execution_count": 9,
   "metadata": {
    "collapsed": false
   },
   "outputs": [
    {
     "name": "stdout",
     "output_type": "stream",
     "text": [
      "[0.94736842105263153, 0.94736842105263153, 0.97368421052631582, 0.97368421052631582, 0.97368421052631582, 0.97368421052631582, 0.97368421052631582, 0.97368421052631582, 0.97368421052631582, 0.97368421052631582, 0.97368421052631582, 0.97368421052631582, 0.97368421052631582, 0.97368421052631582, 0.97368421052631582, 0.97368421052631582, 0.97368421052631582, 0.97368421052631582, 0.97368421052631582, 0.94736842105263153, 0.97368421052631582, 0.94736842105263153, 0.97368421052631582, 0.97368421052631582, 0.97368421052631582]\n"
     ]
    }
   ],
   "source": [
    "# try K=1 through K=25 and record testing accuracy\n",
    "k_range = range(1, 26)\n",
    "\n",
    "# We can create Python dictionary using [] or dict()\n",
    "scores = []\n",
    "\n",
    "# We use a loop through the range 1 to 26\n",
    "# We append the scores in the dictionary\n",
    "for k in k_range:\n",
    "    knn = KNeighborsClassifier(n_neighbors=k)\n",
    "    knn.fit(X_train, y_train)\n",
    "    y_pred = knn.predict(X_test)\n",
    "    scores.append(metrics.accuracy_score(y_test, y_pred))\n",
    "\n",
    "print(scores)"
   ]
  },
  {
   "cell_type": "code",
   "execution_count": 10,
   "metadata": {
    "collapsed": false
   },
   "outputs": [
    {
     "name": "stdout",
     "output_type": "stream",
     "text": [
      "(112, 4)\n",
      "(38, 4)\n",
      "(112,)\n",
      "(38,)\n",
      "0.921052631579\n",
      "0.973684210526\n",
      "0.973684210526\n"
     ]
    },
    {
     "data": {
      "text/plain": [
       "<matplotlib.text.Text at 0x10a4eaa50>"
      ]
     },
     "execution_count": 10,
     "metadata": {},
     "output_type": "execute_result"
    },
    {
     "data": {
      "image/png": "[encoded data removed]",
      "text/plain": [
       "<matplotlib.figure.Figure at 0x10a499a90>"
      ]
     },
     "metadata": {},
     "output_type": "display_data"
    }
   ],
   "source": [
    "from sklearn.model_selection import train_test_split\n",
    "from sklearn.linear_model import LogisticRegression\n",
    "\n",
    "# use train/test split with different random_state values \n",
    "X_train, X_test, y_train, y_test = train_test_split(X, y, random_state=4)  \n",
    "# print the shapes of the new X objects \n",
    "print(X_train.shape) \n",
    "print(X_test.shape)\n",
    "\n",
    "\n",
    "# print the shapes of the new y objects \n",
    "print(y_train.shape) \n",
    "print(y_test.shape)\n",
    "\n",
    "\n",
    "# STEP 2: train the model on the training set \n",
    "\n",
    "logreg = LogisticRegression() \n",
    "logreg.fit(X_train, y_train)\n",
    "LogisticRegression(C=1.0, class_weight=None, dual=False, fit_intercept=True,           intercept_scaling=1, max_iter=100, multi_class='ovr', n_jobs=1,           penalty='l2', random_state=None, solver='liblinear', tol=0.0001,           verbose=0, warm_start=False)\n",
    "\n",
    "\n",
    "# STEP 3: make predictions on the testing set \n",
    "y_pred = logreg.predict(X_test)  \n",
    "# compare actual response values (y_test) with predicted response values (y_pred) \n",
    "print(metrics.accuracy_score(y_test, y_pred))\n",
    "\n",
    "\n",
    "\n",
    "knn = KNeighborsClassifier(n_neighbors=5) \n",
    "knn.fit(X_train, y_train) \n",
    "y_pred = knn.predict(X_test) \n",
    "print(metrics.accuracy_score(y_test, y_pred))\n",
    "\n",
    "\n",
    "knn = KNeighborsClassifier(n_neighbors=5) \n",
    "knn.fit(X_train, y_train) \n",
    "y_pred = knn.predict(X_test) \n",
    "print(metrics.accuracy_score(y_test, y_pred))\n",
    "\n",
    "# import Matplotlib (scientific plotting library) \n",
    "import matplotlib.pyplot as plt  \n",
    "\n",
    "# allow plots to appear within the notebook \n",
    "%matplotlib inline  \n",
    "# plot the relationship between K and testing accuracy \n",
    "# plt.plot(x_axis, y_axis) \n",
    "plt.plot(k_range, scores) \n",
    "plt.xlabel('Value of K for KNN') \n",
    "plt.ylabel('Testing Accuracy')\n"
   ]
  },
  {
   "cell_type": "code",
   "execution_count": null,
   "metadata": {
    "collapsed": true
   },
   "outputs": [],
   "source": []
  },
  {
   "cell_type": "code",
   "execution_count": null,
   "metadata": {
    "collapsed": true
   },
   "outputs": [],
   "source": [
    "ref:http://www.ritchieng.com/machine-learning-k-nearest-neighbors-knn/\n",
    "        "
   ]
  }
 ],
 "metadata": {
  "kernelspec": {
   "display_name": "Python [default]",
   "language": "python",
   "name": "python2"
  }
 },
 "nbformat": 4,
 "nbformat_minor": 1
}
